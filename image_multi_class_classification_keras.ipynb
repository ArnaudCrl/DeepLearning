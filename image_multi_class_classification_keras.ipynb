{
 "cells": [
  {
   "cell_type": "markdown",
   "metadata": {},
   "source": [
    "# Image multiclass classification with keras\n",
    "The model used is a combinaison of Resnet (pre trained) and a fully connected network."
   ]
  },
  {
   "cell_type": "code",
   "execution_count": 1,
   "metadata": {},
   "outputs": [
    {
     "name": "stderr",
     "output_type": "stream",
     "text": [
      "Using TensorFlow backend.\n"
     ]
    }
   ],
   "source": [
    "import numpy as np\n",
    "import pandas as pd\n",
    "import math\n",
    "import matplotlib.pyplot as plt\n",
    "%matplotlib inline \n",
    "# import cv2\n",
    "import sys\n",
    "from IPython.display import display\n",
    "from PIL import Image\n",
    "sys.modules['Image'] = Image \n",
    "import PIL.Image\n",
    "import os\n",
    "PATH = os.getcwd()\n",
    "\n",
    "from keras.preprocessing.image import ImageDataGenerator\n",
    "from keras.applications.resnet50 import preprocess_input\n",
    "# from keras import regularizers\n",
    "\n",
    "from tensorflow.python.keras.applications import ResNet50\n",
    "from tensorflow.python.keras.models import Sequential\n",
    "from tensorflow.python.keras.layers import Dense\n",
    "from tensorflow.python.keras.layers import Dropout\n",
    "from tensorflow.python.keras.layers import Flatten\n",
    "from tensorflow.python.keras.layers import Activation\n",
    "from tensorflow.python.keras.optimizers import Adam\n",
    "\n",
    "from sklearn.model_selection import train_test_split\n",
    "from sklearn.metrics import classification_report, confusion_matrix\n",
    "from sklearn.utils.multiclass import unique_labels"
   ]
  },
  {
   "cell_type": "markdown",
   "metadata": {},
   "source": [
    "## Defining the database"
   ]
  },
  {
   "cell_type": "code",
   "execution_count": 2,
   "metadata": {},
   "outputs": [
    {
     "name": "stdout",
     "output_type": "stream",
     "text": [
      "train samples : 1835\n",
      "validation samples : 80\n"
     ]
    }
   ],
   "source": [
    "img_width, img_height = 224, 224\n",
    "\n",
    "resnet_weights_path = '../weights/resnet50_weights_tf_dim_ordering_tf_kernels_notop.h5'\n",
    "top_model_weights_path = '../weights/bottleneck_fc_model.h5'\n",
    "\n",
    "train_data_dir = 'train_data_folder'\n",
    "validation_data_dir = 'validation_data_folder'\n",
    "\n",
    "nb_train_samples = 0\n",
    "for root, dirs, files in os.walk(train_data_dir):\n",
    "    nb_train_samples += len(files)\n",
    "print('train samples :', nb_train_samples)\n",
    "\n",
    "nb_validation_samples = 0\n",
    "for root, dirs, files in os.walk(validation_data_dir):\n",
    "    nb_validation_samples += len(files)\n",
    "print('validation samples :', nb_validation_samples)"
   ]
  },
  {
   "cell_type": "markdown",
   "metadata": {},
   "source": [
    "## To remove unwanted jupyter notebook checkpoints in your data folder"
   ]
  },
  {
   "cell_type": "code",
   "execution_count": null,
   "metadata": {},
   "outputs": [],
   "source": [
    "#REMOVING NOTEBOOK CHECKPOINTS IN DATA FOLDER\n",
    "% cd path_to_your_data\n",
    "!find . -name .ipynb_checkpoints -exec rm -rf {} \\;"
   ]
  },
  {
   "cell_type": "markdown",
   "metadata": {},
   "source": [
    "## Calculating the output of the resnet model\n",
    "This allows for faster training of the classifier which comes after"
   ]
  },
  {
   "cell_type": "code",
   "execution_count": 3,
   "metadata": {},
   "outputs": [
    {
     "name": "stdout",
     "output_type": "stream",
     "text": [
      "WARNING:tensorflow:From /opt/conda/lib/python3.7/site-packages/tensorflow/python/ops/resource_variable_ops.py:435: colocate_with (from tensorflow.python.framework.ops) is deprecated and will be removed in a future version.\n",
      "Instructions for updating:\n",
      "Colocations handled automatically by placer.\n"
     ]
    },
    {
     "name": "stderr",
     "output_type": "stream",
     "text": [
      "/opt/conda/lib/python3.7/site-packages/keras_applications/resnet50.py:265: UserWarning: The output shape of `ResNet50(include_top=False)` has been changed since Keras 2.2.0.\n",
      "  warnings.warn('The output shape of `ResNet50(include_top=False)` '\n"
     ]
    }
   ],
   "source": [
    "resnet = ResNet50(weights = resnet_weights_path, include_top = False)\n",
    "# model.summary()"
   ]
  },
  {
   "cell_type": "code",
   "execution_count": 12,
   "metadata": {},
   "outputs": [],
   "source": [
    "def save_bottleneck_train_features():\n",
    "\n",
    "    train_datagen = ImageDataGenerator( #rescale=1.0/255.0,\n",
    "                                    samplewise_center=False, \n",
    "                                    samplewise_std_normalization=False, \n",
    "                                    horizontal_flip = True, \n",
    "                                    vertical_flip = True, \n",
    "                                    height_shift_range = 0.1, \n",
    "                                    width_shift_range = 0.1, \n",
    "                                    rotation_range = 2, \n",
    "                                    shear_range = 0,\n",
    "                                    fill_mode = 'constant',\n",
    "                                    zoom_range = 0.2,\n",
    "                                    preprocessing_function = preprocess_input)\n",
    "    \n",
    "    \n",
    "    train_generator = train_datagen.flow_from_directory(\n",
    "        train_data_dir,\n",
    "        target_size = (img_width, img_height),\n",
    "        batch_size = 3000,\n",
    "        class_mode = 'categorical',\n",
    "        shuffle = True)\n",
    "    \n",
    "    batch = next(train_generator) #initialization\n",
    "    bottleneck_features_train = resnet.predict(batch[0], verbose=True)\n",
    "    bottleneck_labels_train = batch[1]\n",
    "    \n",
    "    for i in range(2):\n",
    "        batch = next(train_generator)\n",
    "        next_pred = resnet.predict(batch[0], verbose=False)\n",
    "        bottleneck_features_train = np.concatenate((bottleneck_features_train, next_pred))\n",
    "        next_label = batch[1]\n",
    "        bottleneck_labels_train = np.concatenate((bottleneck_labels_train, next_label))\n",
    "        \n",
    "    np.save(open('bottleneck_features_train.npy', 'wb'), bottleneck_features_train)\n",
    "    np.save(open('bottleneck_labels_train.npy', 'wb'), bottleneck_labels_train)\n",
    "    \n",
    "\n",
    "def save_bottleneck_validation_features():\n",
    "\n",
    "    test_datagen = ImageDataGenerator(preprocessing_function = preprocess_input)\n",
    "    \n",
    "    test_generator = test_datagen.flow_from_directory(\n",
    "        validation_data_dir,\n",
    "        target_size = (img_width, img_height),\n",
    "        batch_size = nb_validation_samples,\n",
    "        class_mode = 'categorical',\n",
    "        shuffle = False)\n",
    "    \n",
    "    \n",
    "    batch = next(test_generator) #initialization\n",
    "    bottleneck_features_validation = resnet.predict(batch[0], verbose=True)\n",
    "    bottleneck_label_validation = batch[1]\n",
    "    \n",
    "    np.save(open('bottleneck_features_validation.npy', 'wb'), bottleneck_features_validation)\n",
    "    np.save(open('bottleneck_labels_validation.npy', 'wb'), bottleneck_label_validation)"
   ]
  },
  {
   "cell_type": "code",
   "execution_count": 13,
   "metadata": {},
   "outputs": [
    {
     "name": "stdout",
     "output_type": "stream",
     "text": [
      "Found 1833 images belonging to 12 classes.\n",
      "1833/1833 [==============================] - 4s 2ms/sample\n",
      "Found 80 images belonging to 12 classes.\n",
      "80/80 [==============================] - 0s 2ms/sample\n"
     ]
    }
   ],
   "source": [
    "save_bottleneck_train_features()\n",
    "save_bottleneck_validation_features()"
   ]
  },
  {
   "cell_type": "markdown",
   "metadata": {},
   "source": [
    "## Training the classifier using the previous resnet output"
   ]
  },
  {
   "cell_type": "code",
   "execution_count": 9,
   "metadata": {},
   "outputs": [],
   "source": [
    "    # Fully connected network architecture\n",
    "\n",
    "top_model = Sequential()\n",
    "top_model.add(Dropout(0.7))\n",
    "top_model.add(Flatten())\n",
    "top_model.add(Dense(2048, activation='linear',name='fc-2'))\n",
    "# top_model.add(Dropout(0.3))\n",
    "top_model.add(Activation('relu'))\n",
    "top_model.add(Dense(1024, activation='linear',name='fc-3'))\n",
    "# top_model.add(Dropout(0.2))\n",
    "top_model.add(Activation('relu'))\n",
    "top_model.add(Dense(512, activation='linear',name='fc-4'))\n",
    "# top_model.add(Dropout(0.2))\n",
    "top_model.add(Activation('relu'))\n",
    "top_model.add(Dense(256, activation='linear',name='fc-5'))\n",
    "# top_model.add(Dropout(0.2))\n",
    "top_model.add(Activation('relu'))\n",
    "top_model.add(Dense(12, activation='softmax',name='output_layer'))\n",
    "\n",
    "\n",
    "adam = Adam(lr = 0.0001, decay=0.0001)\n",
    "top_model.compile(optimizer=adam, loss='categorical_crossentropy', metrics=['categorical_accuracy'])"
   ]
  },
  {
   "cell_type": "code",
   "execution_count": 10,
   "metadata": {},
   "outputs": [],
   "source": [
    "from tensorflow.python.keras.callbacks import EarlyStopping, ModelCheckpoint\n",
    "\n",
    "cb_early_stopper = EarlyStopping(monitor = 'val_loss', patience = 20)\n",
    "cb_checkpointer = ModelCheckpoint(filepath = '../weights/bottleneck_fc_model.h5', monitor = 'val_loss', save_best_only = True, mode = 'auto')"
   ]
  },
  {
   "cell_type": "code",
   "execution_count": 11,
   "metadata": {},
   "outputs": [
    {
     "name": "stdout",
     "output_type": "stream",
     "text": [
      "WARNING:tensorflow:From /opt/conda/lib/python3.7/site-packages/tensorflow/python/keras/layers/core.py:143: calling dropout (from tensorflow.python.ops.nn_ops) with keep_prob is deprecated and will be removed in a future version.\n",
      "Instructions for updating:\n",
      "Please use `rate` instead of `keep_prob`. Rate should be set to `rate = 1 - keep_prob`.\n",
      "Train on 1833 samples, validate on 80 samples\n",
      "Epoch 1/999\n",
      "1833/1833 [==============================] - 27s 15ms/sample - loss: 2.0009 - categorical_accuracy: 0.4163 - val_loss: 1.2921 - val_categorical_accuracy: 0.5750\n",
      "Epoch 2/999\n",
      "1833/1833 [==============================] - 25s 14ms/sample - loss: 0.6503 - categorical_accuracy: 0.7867 - val_loss: 1.2789 - val_categorical_accuracy: 0.6000\n",
      "Epoch 3/999\n",
      "1833/1833 [==============================] - 2s 1ms/sample - loss: 0.2495 - categorical_accuracy: 0.9220 - val_loss: 1.2944 - val_categorical_accuracy: 0.6750\n",
      "Epoch 4/999\n",
      "1833/1833 [==============================] - 2s 1ms/sample - loss: 0.1319 - categorical_accuracy: 0.9569 - val_loss: 1.4317 - val_categorical_accuracy: 0.6125\n",
      "Epoch 5/999\n",
      "1833/1833 [==============================] - 2s 1ms/sample - loss: 0.0695 - categorical_accuracy: 0.9787 - val_loss: 1.5256 - val_categorical_accuracy: 0.6250\n",
      "Epoch 6/999\n",
      "1833/1833 [==============================] - 2s 1ms/sample - loss: 0.0515 - categorical_accuracy: 0.9858 - val_loss: 1.3243 - val_categorical_accuracy: 0.6875\n",
      "Epoch 7/999\n",
      "1833/1833 [==============================] - 2s 1ms/sample - loss: 0.0376 - categorical_accuracy: 0.9891 - val_loss: 1.3803 - val_categorical_accuracy: 0.6875\n",
      "Epoch 8/999\n",
      "1833/1833 [==============================] - 25s 14ms/sample - loss: 0.0329 - categorical_accuracy: 0.9880 - val_loss: 1.2637 - val_categorical_accuracy: 0.7500\n",
      "Epoch 9/999\n",
      "1833/1833 [==============================] - 26s 14ms/sample - loss: 0.0225 - categorical_accuracy: 0.9940 - val_loss: 1.2204 - val_categorical_accuracy: 0.7250\n",
      "Epoch 10/999\n",
      "1833/1833 [==============================] - 2s 1ms/sample - loss: 0.0303 - categorical_accuracy: 0.9929 - val_loss: 1.7360 - val_categorical_accuracy: 0.6500\n",
      "Epoch 11/999\n",
      "1833/1833 [==============================] - 2s 1ms/sample - loss: 0.0135 - categorical_accuracy: 0.9984 - val_loss: 1.7009 - val_categorical_accuracy: 0.7000\n",
      "Epoch 12/999\n",
      "1833/1833 [==============================] - 2s 1ms/sample - loss: 0.0071 - categorical_accuracy: 0.9989 - val_loss: 1.6174 - val_categorical_accuracy: 0.7000\n",
      "Epoch 13/999\n",
      "1833/1833 [==============================] - 2s 1ms/sample - loss: 0.0132 - categorical_accuracy: 0.9978 - val_loss: 1.6484 - val_categorical_accuracy: 0.6750\n",
      "Epoch 14/999\n",
      "1833/1833 [==============================] - 2s 1ms/sample - loss: 0.0127 - categorical_accuracy: 0.9973 - val_loss: 1.6728 - val_categorical_accuracy: 0.6125\n",
      "Epoch 15/999\n",
      "1833/1833 [==============================] - 2s 1ms/sample - loss: 0.0262 - categorical_accuracy: 0.9940 - val_loss: 1.8391 - val_categorical_accuracy: 0.6375\n",
      "Epoch 16/999\n",
      "1833/1833 [==============================] - 2s 1ms/sample - loss: 0.0315 - categorical_accuracy: 0.9902 - val_loss: 1.8578 - val_categorical_accuracy: 0.6625\n",
      "Epoch 17/999\n",
      "1833/1833 [==============================] - 2s 1ms/sample - loss: 0.0210 - categorical_accuracy: 0.9929 - val_loss: 2.4908 - val_categorical_accuracy: 0.5875\n",
      "Epoch 18/999\n",
      "1833/1833 [==============================] - 2s 1ms/sample - loss: 0.0232 - categorical_accuracy: 0.9924 - val_loss: 2.0428 - val_categorical_accuracy: 0.6375\n",
      "Epoch 19/999\n",
      "1833/1833 [==============================] - 2s 1ms/sample - loss: 0.0249 - categorical_accuracy: 0.9891 - val_loss: 1.5601 - val_categorical_accuracy: 0.7250\n",
      "Epoch 20/999\n",
      "1833/1833 [==============================] - 2s 1ms/sample - loss: 0.0250 - categorical_accuracy: 0.9924 - val_loss: 1.8748 - val_categorical_accuracy: 0.6125\n",
      "Epoch 21/999\n",
      "1833/1833 [==============================] - 2s 1ms/sample - loss: 0.0213 - categorical_accuracy: 0.9918 - val_loss: 1.8597 - val_categorical_accuracy: 0.6875\n",
      "Epoch 22/999\n",
      "1833/1833 [==============================] - 2s 1ms/sample - loss: 0.0201 - categorical_accuracy: 0.9929 - val_loss: 1.9706 - val_categorical_accuracy: 0.6250\n",
      "Epoch 23/999\n",
      "1833/1833 [==============================] - 2s 1ms/sample - loss: 0.0195 - categorical_accuracy: 0.9951 - val_loss: 2.3848 - val_categorical_accuracy: 0.6125\n",
      "Epoch 24/999\n",
      "1833/1833 [==============================] - 2s 1ms/sample - loss: 0.0227 - categorical_accuracy: 0.9913 - val_loss: 2.0083 - val_categorical_accuracy: 0.6500\n",
      "Epoch 25/999\n",
      "1833/1833 [==============================] - 2s 1ms/sample - loss: 0.0507 - categorical_accuracy: 0.9836 - val_loss: 2.1156 - val_categorical_accuracy: 0.6375\n",
      "Epoch 26/999\n",
      "1833/1833 [==============================] - 2s 1ms/sample - loss: 0.0334 - categorical_accuracy: 0.9902 - val_loss: 2.1422 - val_categorical_accuracy: 0.6250\n",
      "Epoch 27/999\n",
      "1833/1833 [==============================] - 2s 1ms/sample - loss: 0.0262 - categorical_accuracy: 0.9918 - val_loss: 1.5927 - val_categorical_accuracy: 0.6875\n",
      "Epoch 28/999\n",
      "1833/1833 [==============================] - 2s 1ms/sample - loss: 0.0267 - categorical_accuracy: 0.9913 - val_loss: 1.9630 - val_categorical_accuracy: 0.6250\n",
      "Epoch 29/999\n",
      "1833/1833 [==============================] - 2s 1ms/sample - loss: 0.0328 - categorical_accuracy: 0.9864 - val_loss: 1.2998 - val_categorical_accuracy: 0.7125\n"
     ]
    }
   ],
   "source": [
    "\n",
    "# Training the top model\n",
    "\n",
    "train_data = np.load(open('bottleneck_features_train.npy', 'rb'))\n",
    "train_labels = np.load(open('bottleneck_labels_train.npy', 'rb'))\n",
    "\n",
    "validation_data = np.load(open('bottleneck_features_validation.npy', 'rb'))\n",
    "validation_labels = np.load(open('bottleneck_labels_validation.npy', 'rb'))\n",
    "\n",
    "fit_history = top_model.fit(train_data, train_labels,\n",
    "          epochs = 999,\n",
    "          batch_size = 64,\n",
    "          validation_data=(validation_data, validation_labels),\n",
    "          callbacks = [cb_checkpointer, cb_early_stopper],\n",
    "          verbose = True)\n",
    "\n",
    "top_model.load_weights(\"../weights/bottleneck_fc_model.h5\")\n",
    "    "
   ]
  },
  {
   "cell_type": "markdown",
   "metadata": {},
   "source": [
    "## Ploting the training results"
   ]
  },
  {
   "cell_type": "code",
   "execution_count": null,
   "metadata": {},
   "outputs": [],
   "source": [
    "plt.figure(1, figsize = (15,8)) \n",
    "    \n",
    "plt.subplot(221)  \n",
    "plt.plot(fit_history.history['categorical_accuracy'])  \n",
    "plt.plot(fit_history.history['val_categorical_accuracy'])  \n",
    "plt.title('model accuracy')  \n",
    "plt.ylabel('accuracy')  \n",
    "plt.xlabel('epoch')  \n",
    "plt.legend(['train', 'valid']) \n",
    "    \n",
    "plt.subplot(222)  \n",
    "plt.plot(fit_history.history['loss'])  \n",
    "plt.plot(fit_history.history['val_loss'])  \n",
    "plt.title('model loss')  \n",
    "plt.ylabel('loss')  \n",
    "plt.xlabel('epoch')  \n",
    "plt.legend(['train', 'valid']) \n",
    "\n",
    "plt.show()\n",
    "plt.savefig('../figures/training_99_dropout.png', bbox_inches='tight')\n"
   ]
  },
  {
   "cell_type": "code",
   "execution_count": 13,
   "metadata": {},
   "outputs": [
    {
     "name": "stdout",
     "output_type": "stream",
     "text": [
      "80/80 [==============================] - 0s 2ms/sample\n",
      "Found 79 images belonging to 12 classes.\n"
     ]
    }
   ],
   "source": [
    "y_pred_full = top_model.predict(validation_data, verbose = True)\n",
    "y_pred_percent = (np.array(y_pred_full) * 100).astype(int)\n",
    "y_pred_top = np.argmax(y_pred_full, axis=1)\n",
    "y_real = np.argmax(validation_labels, axis=1)\n",
    "\n",
    "display_datagen = ImageDataGenerator(rescale=1.0/255.0)\n",
    "\n",
    "display_generator = display_datagen.flow_from_directory( #same as dev/test set but without preprocessing to be able to display the pictures with normal colors\n",
    "        'validation_data_folder',\n",
    "        target_size = (img_width, img_height),\n",
    "        batch_size = nb_validation_samples,\n",
    "        class_mode = 'categorical',\n",
    "        shuffle = False)\n",
    "\n",
    "images, _ = next(display_generator)\n",
    "\n",
    "class_names = sorted(os.listdir(train_data_dir)) # Flow from directory sorts classes in alphabetical order"
   ]
  },
  {
   "cell_type": "markdown",
   "metadata": {},
   "source": [
    "## Creating a confusion matrix"
   ]
  },
  {
   "cell_type": "code",
   "execution_count": 14,
   "metadata": {},
   "outputs": [
    {
     "data": {
      "text/plain": [
       "<matplotlib.axes._subplots.AxesSubplot at 0x7f9ac0edf9b0>"
      ]
     },
     "execution_count": 14,
     "metadata": {},
     "output_type": "execute_result"
    },
    {
     "data": {
      "image/png": "[encoded data removed]",
      "text/plain": [
       "<Figure size 648x648 with 2 Axes>"
      ]
     },
     "metadata": {
      "needs_background": "light"
     },
     "output_type": "display_data"
    }
   ],
   "source": [
    "def plot_confusion_matrix(y_true, y_pred, classes,\n",
    "                          normalize=False,\n",
    "                          title=None,\n",
    "                          save_fig = False,\n",
    "                          cmap=plt.cm.Blues):\n",
    "    \"\"\"\n",
    "    This function prints and plots the confusion matrix.\n",
    "    Normalization can be applied by setting `normalize=True`.\n",
    "    \"\"\"\n",
    "    if not title:\n",
    "        if normalize:\n",
    "            title = 'Normalized confusion matrix'\n",
    "        else:\n",
    "            title = 'Confusion matrix, without normalization'\n",
    "\n",
    "    # Compute confusion matrix\n",
    "    cm = confusion_matrix(y_true, y_pred)\n",
    "    \n",
    "    if normalize:\n",
    "        cm = cm.astype('float') / cm.sum(axis=1)[:, np.newaxis]\n",
    "#         print(\"Normalized confusion matrix\")\n",
    "#     else:\n",
    "#         print('Confusion matrix, without normalization')\n",
    "\n",
    "#     print(cm)\n",
    "\n",
    "    fig, ax = plt.subplots(figsize = (9,9))\n",
    "    im = ax.imshow(cm, interpolation='nearest', cmap=cmap)\n",
    "    ax.figure.colorbar(im, ax=ax)\n",
    "    # We want to show all ticks...\n",
    "    ax.set(xticks=np.arange(cm.shape[1]),\n",
    "           yticks=np.arange(cm.shape[0]),\n",
    "           # ... and label them with the respective list entries\n",
    "           xticklabels=classes, yticklabels=classes,\n",
    "           title=title,\n",
    "           ylabel='True label',\n",
    "           xlabel='Predicted label')\n",
    "\n",
    "    # Rotate the tick labels and set their alignment.\n",
    "    plt.setp(ax.get_xticklabels(), rotation=45, ha=\"right\",\n",
    "             rotation_mode=\"anchor\")\n",
    "\n",
    "    # Loop over data dimensions and create text annotations.\n",
    "    fmt = '.2f' if normalize else 'd'\n",
    "    thresh = cm.max() / 2.\n",
    "    for i in range(cm.shape[0]):\n",
    "        for j in range(cm.shape[1]):\n",
    "            ax.text(j, i, format(cm[i, j], fmt),\n",
    "                    ha=\"center\", va=\"center\",\n",
    "                    color=\"white\" if cm[i, j] > thresh else \"black\")\n",
    "    fig.tight_layout()\n",
    "    \n",
    "    if save_fig:\n",
    "        fig.savefig('../figures/confusion_matrix.png', bbox_inches='tight')\n",
    "    \n",
    "    return ax\n",
    "\n",
    "plot_confusion_matrix(y_real, y_pred_top, classes=class_names, normalize=True, save_fig = True)\n",
    "\n",
    "\n"
   ]
  },
  {
   "cell_type": "markdown",
   "metadata": {},
   "source": [
    "## Displaying the prediction results on the validation set"
   ]
  },
  {
   "cell_type": "code",
   "execution_count": null,
   "metadata": {
    "scrolled": false
   },
   "outputs": [],
   "source": [
    "fig, axs = plt.subplots(nb_validation_samples // 5, 5, figsize=(20, 1.2 * nb_validation_samples)) #Warning: better to have number of sample divisible by 5\n",
    "axs = axs.flatten()\n",
    "plt.subplots_adjust(hspace=0, wspace = 0)\n",
    "\n",
    "i = 0\n",
    "for img, ax in zip(images, axs):\n",
    "    ax.axis(\"off\")\n",
    "\n",
    "    top3_predictions = sorted(zip(y_pred_percent[i], class_names), reverse=True)[:3]\n",
    "    legend = (top3_predictions[0][1] + \" : \" + str(top3_predictions[0][0]) + \"%\" + \"\\n\"\n",
    "            + top3_predictions[1][1] + \" : \" + str(top3_predictions[1][0]) + \"%\" + \"\\n\"\n",
    "            + top3_predictions[2][1] + \" : \" + str(top3_predictions[2][0]) + \"%\")   \n",
    "    \n",
    "    if y_pred_top[i] != y_real[i]:\n",
    "        ax.set_title(legend + \"\\n real : \" + class_names[y_real[i]], color='r')\n",
    "    else:\n",
    "        ax.set_title(legend, color = 'g')\n",
    "        \n",
    "    i += 1\n",
    "    \n",
    "    ax.imshow(img)\n",
    "    \n",
    "# plt.savefig('../figures/all_classes_77.png', bbox_inches='tight')\n"
   ]
  }
 ],
 "metadata": {
  "kernelspec": {
   "display_name": "Python 3",
   "language": "python",
   "name": "python3"
  },
  "language_info": {
   "codemirror_mode": {
    "name": "ipython",
    "version": 3
   },
   "file_extension": ".py",
   "mimetype": "text/x-python",
   "name": "python",
   "nbconvert_exporter": "python",
   "pygments_lexer": "ipython3",
   "version": "3.7.0"
  }
 },
 "nbformat": 4,
 "nbformat_minor": 2
}
